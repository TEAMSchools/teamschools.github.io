{
 "cells": [
  {
   "cell_type": "markdown",
   "metadata": {},
   "source": [
    "# Databases: Gabby\n",
    "\n",
    "Gabby stores KTAF Student, Alumni, and People Data in a SQL Server. Below we'll include a searchable list of fields, tables, and views.\n"
   ]
  },
  {
   "cell_type": "markdown",
   "metadata": {},
   "source": []
  },
  {
   "cell_type": "code",
   "execution_count": 1,
   "metadata": {},
   "outputs": [],
   "source": [
    "#Sortable dataframe tools\n",
    "import pandas as pd\n",
    "import qgrid\n",
    "import pivottablejs"
   ]
  },
  {
   "cell_type": "code",
   "execution_count": 2,
   "metadata": {},
   "outputs": [],
   "source": [
    "file = 'all_columns.csv'\n",
    "columns_df=pd.read_csv(file)"
   ]
  },
  {
   "cell_type": "code",
   "execution_count": 3,
   "metadata": {},
   "outputs": [
    {
     "data": {
      "text/html": [
       "<div>\n",
       "<style scoped>\n",
       "    .dataframe tbody tr th:only-of-type {\n",
       "        vertical-align: middle;\n",
       "    }\n",
       "\n",
       "    .dataframe tbody tr th {\n",
       "        vertical-align: top;\n",
       "    }\n",
       "\n",
       "    .dataframe thead th {\n",
       "        text-align: right;\n",
       "    }\n",
       "</style>\n",
       "<table border=\"1\" class=\"dataframe\">\n",
       "  <thead>\n",
       "    <tr style=\"text-align: right;\">\n",
       "      <th></th>\n",
       "      <th>db_name</th>\n",
       "      <th>schema_name</th>\n",
       "      <th>table_name</th>\n",
       "      <th>type</th>\n",
       "      <th>column_id</th>\n",
       "      <th>column_name</th>\n",
       "      <th>column_max_length</th>\n",
       "      <th>column_type</th>\n",
       "    </tr>\n",
       "  </thead>\n",
       "  <tbody>\n",
       "    <tr>\n",
       "      <th>0</th>\n",
       "      <td>gabby</td>\n",
       "      <td>alumni</td>\n",
       "      <td>account</td>\n",
       "      <td>U</td>\n",
       "      <td>-1</td>\n",
       "      <td>NaN</td>\n",
       "      <td>NaN</td>\n",
       "      <td>NaN</td>\n",
       "    </tr>\n",
       "    <tr>\n",
       "      <th>1</th>\n",
       "      <td>gabby</td>\n",
       "      <td>alumni</td>\n",
       "      <td>application_c</td>\n",
       "      <td>U</td>\n",
       "      <td>-1</td>\n",
       "      <td>NaN</td>\n",
       "      <td>NaN</td>\n",
       "      <td>NaN</td>\n",
       "    </tr>\n",
       "    <tr>\n",
       "      <th>2</th>\n",
       "      <td>gabby</td>\n",
       "      <td>alumni</td>\n",
       "      <td>application_identifiers</td>\n",
       "      <td>V</td>\n",
       "      <td>-1</td>\n",
       "      <td>NaN</td>\n",
       "      <td>NaN</td>\n",
       "      <td>NaN</td>\n",
       "    </tr>\n",
       "    <tr>\n",
       "      <th>3</th>\n",
       "      <td>gabby</td>\n",
       "      <td>alumni</td>\n",
       "      <td>application_status_history_c</td>\n",
       "      <td>U</td>\n",
       "      <td>-1</td>\n",
       "      <td>NaN</td>\n",
       "      <td>NaN</td>\n",
       "      <td>NaN</td>\n",
       "    </tr>\n",
       "    <tr>\n",
       "      <th>4</th>\n",
       "      <td>gabby</td>\n",
       "      <td>alumni</td>\n",
       "      <td>attachment</td>\n",
       "      <td>U</td>\n",
       "      <td>-1</td>\n",
       "      <td>NaN</td>\n",
       "      <td>NaN</td>\n",
       "      <td>NaN</td>\n",
       "    </tr>\n",
       "    <tr>\n",
       "      <th>...</th>\n",
       "      <td>...</td>\n",
       "      <td>...</td>\n",
       "      <td>...</td>\n",
       "      <td>...</td>\n",
       "      <td>...</td>\n",
       "      <td>...</td>\n",
       "      <td>...</td>\n",
       "      <td>...</td>\n",
       "    </tr>\n",
       "    <tr>\n",
       "      <th>50471</th>\n",
       "      <td>kippmiami</td>\n",
       "      <td>fsa</td>\n",
       "      <td>student_scores_previous</td>\n",
       "      <td>U</td>\n",
       "      <td>32</td>\n",
       "      <td>c_5_poss</td>\n",
       "      <td>512.0</td>\n",
       "      <td>nvarchar</td>\n",
       "    </tr>\n",
       "    <tr>\n",
       "      <th>50472</th>\n",
       "      <td>kippmiami</td>\n",
       "      <td>fsa</td>\n",
       "      <td>student_scores_previous</td>\n",
       "      <td>U</td>\n",
       "      <td>33</td>\n",
       "      <td>c_5_earn</td>\n",
       "      <td>512.0</td>\n",
       "      <td>nvarchar</td>\n",
       "    </tr>\n",
       "    <tr>\n",
       "      <th>50473</th>\n",
       "      <td>kippmiami</td>\n",
       "      <td>fsa</td>\n",
       "      <td>student_scores_previous</td>\n",
       "      <td>U</td>\n",
       "      <td>34</td>\n",
       "      <td>c_6_poss</td>\n",
       "      <td>512.0</td>\n",
       "      <td>nvarchar</td>\n",
       "    </tr>\n",
       "    <tr>\n",
       "      <th>50474</th>\n",
       "      <td>kippmiami</td>\n",
       "      <td>fsa</td>\n",
       "      <td>student_scores_previous</td>\n",
       "      <td>U</td>\n",
       "      <td>35</td>\n",
       "      <td>c_6_earn</td>\n",
       "      <td>512.0</td>\n",
       "      <td>nvarchar</td>\n",
       "    </tr>\n",
       "    <tr>\n",
       "      <th>50475</th>\n",
       "      <td>kippmiami</td>\n",
       "      <td>fsa</td>\n",
       "      <td>student_scores_previous</td>\n",
       "      <td>U</td>\n",
       "      <td>36</td>\n",
       "      <td>_fivetran_synced</td>\n",
       "      <td>10.0</td>\n",
       "      <td>datetimeoffset</td>\n",
       "    </tr>\n",
       "  </tbody>\n",
       "</table>\n",
       "<p>50476 rows × 8 columns</p>\n",
       "</div>"
      ],
      "text/plain": [
       "         db_name schema_name                    table_name type  column_id  \\\n",
       "0          gabby      alumni                       account    U         -1   \n",
       "1          gabby      alumni                 application_c    U         -1   \n",
       "2          gabby      alumni       application_identifiers    V         -1   \n",
       "3          gabby      alumni  application_status_history_c    U         -1   \n",
       "4          gabby      alumni                    attachment    U         -1   \n",
       "...          ...         ...                           ...  ...        ...   \n",
       "50471  kippmiami         fsa       student_scores_previous    U         32   \n",
       "50472  kippmiami         fsa       student_scores_previous    U         33   \n",
       "50473  kippmiami         fsa       student_scores_previous    U         34   \n",
       "50474  kippmiami         fsa       student_scores_previous    U         35   \n",
       "50475  kippmiami         fsa       student_scores_previous    U         36   \n",
       "\n",
       "            column_name  column_max_length     column_type  \n",
       "0                   NaN                NaN             NaN  \n",
       "1                   NaN                NaN             NaN  \n",
       "2                   NaN                NaN             NaN  \n",
       "3                   NaN                NaN             NaN  \n",
       "4                   NaN                NaN             NaN  \n",
       "...                 ...                ...             ...  \n",
       "50471          c_5_poss              512.0        nvarchar  \n",
       "50472          c_5_earn              512.0        nvarchar  \n",
       "50473          c_6_poss              512.0        nvarchar  \n",
       "50474          c_6_earn              512.0        nvarchar  \n",
       "50475  _fivetran_synced               10.0  datetimeoffset  \n",
       "\n",
       "[50476 rows x 8 columns]"
      ]
     },
     "execution_count": 3,
     "metadata": {},
     "output_type": "execute_result"
    }
   ],
   "source": [
    "#Regular pandas view of all the data\n",
    "columns_df"
   ]
  },
  {
   "cell_type": "code",
   "execution_count": 4,
   "metadata": {},
   "outputs": [
    {
     "data": {
      "text/plain": [
       "<module 'qgrid' from '/home/cbaldor/.pyenv/versions/3.9.7/envs/datadocs/lib/python3.9/site-packages/qgrid/__init__.py'>"
      ]
     },
     "execution_count": 4,
     "metadata": {},
     "output_type": "execute_result"
    }
   ],
   "source": [
    "#Sortable/searchable list with qgrid\n",
    "qgrid.QgridWidget(df=columns_df)\n",
    "qgrid"
   ]
  },
  {
   "cell_type": "code",
   "execution_count": null,
   "metadata": {},
   "outputs": [],
   "source": []
  }
 ],
 "metadata": {
  "interpreter": {
   "hash": "7b3839c6188ac6c0e257bc18ae411c3eba8bbe2768050accd898a692a0f9abd1"
  },
  "kernelspec": {
   "display_name": "Python 3.9.7 64-bit ('datadocs': pyenv)",
   "name": "python3"
  },
  "language_info": {
   "codemirror_mode": {
    "name": "ipython",
    "version": 3
   },
   "file_extension": ".py",
   "mimetype": "text/x-python",
   "name": "python",
   "nbconvert_exporter": "python",
   "pygments_lexer": "ipython3",
   "version": "3.9.7"
  },
  "widgets": {
   "application/vnd.jupyter.widget-state+json": {
    "state": {
     "9c34556a7e0b470a825d4aa14ec44646": {
      "model_module": "@jupyter-widgets/base",
      "model_module_version": "1.2.0",
      "model_name": "LayoutModel",
      "state": {
       "_model_module": "@jupyter-widgets/base",
       "_model_module_version": "1.2.0",
       "_model_name": "LayoutModel",
       "_view_count": null,
       "_view_module": "@jupyter-widgets/base",
       "_view_module_version": "1.2.0",
       "_view_name": "LayoutView",
       "align_content": null,
       "align_items": null,
       "align_self": null,
       "border": null,
       "bottom": null,
       "display": null,
       "flex": null,
       "flex_flow": null,
       "grid_area": null,
       "grid_auto_columns": null,
       "grid_auto_flow": null,
       "grid_auto_rows": null,
       "grid_column": null,
       "grid_gap": null,
       "grid_row": null,
       "grid_template_areas": null,
       "grid_template_columns": null,
       "grid_template_rows": null,
       "height": null,
       "justify_content": null,
       "justify_items": null,
       "left": null,
       "margin": null,
       "max_height": null,
       "max_width": null,
       "min_height": null,
       "min_width": null,
       "object_fit": null,
       "object_position": null,
       "order": null,
       "overflow": null,
       "overflow_x": null,
       "overflow_y": null,
       "padding": null,
       "right": null,
       "top": null,
       "visibility": null,
       "width": null
      }
     },
     "e64e991758a64262adf15e94d344aada": {
      "model_module": "qgrid",
      "model_module_version": "^1.1.3",
      "model_name": "QgridModel",
      "state": {
       "_columns": {
        "column_id": {
         "cssClass": "integer",
         "field": "column_id",
         "id": "column_id",
         "name": "column_id",
         "position": 6,
         "type": "integer"
        },
        "column_max_length": {
         "cssClass": "number",
         "field": "column_max_length",
         "id": "column_max_length",
         "name": "column_max_length",
         "position": 8,
         "type": "number"
        },
        "column_name": {
         "cssClass": "string",
         "field": "column_name",
         "id": "column_name",
         "name": "column_name",
         "position": 7,
         "type": "string"
        },
        "column_type": {
         "cssClass": "string",
         "field": "column_type",
         "id": "column_type",
         "name": "column_type",
         "position": 9,
         "type": "string"
        },
        "db_name": {
         "cssClass": "string",
         "field": "db_name",
         "id": "db_name",
         "name": "db_name",
         "position": 2,
         "type": "string"
        },
        "index": {
         "cssClass": "integer",
         "field": "index",
         "first_index": true,
         "id": "index",
         "index_display_text": "",
         "is_index": true,
         "level": 0,
         "name": "index",
         "position": 0,
         "type": "integer"
        },
        "qgrid_unfiltered_index": {
         "cssClass": "integer",
         "field": "qgrid_unfiltered_index",
         "id": "qgrid_unfiltered_index",
         "name": "qgrid_unfiltered_index",
         "position": 1,
         "type": "integer"
        },
        "schema_name": {
         "cssClass": "string",
         "field": "schema_name",
         "id": "schema_name",
         "name": "schema_name",
         "position": 3,
         "type": "string"
        },
        "table_name": {
         "cssClass": "string",
         "field": "table_name",
         "id": "table_name",
         "name": "table_name",
         "position": 4,
         "type": "string"
        },
        "type": {
         "cssClass": "string",
         "field": "type",
         "id": "type",
         "name": "type",
         "position": 5,
         "type": "string"
        }
       },
       "_df_json": "{\"schema\":{\"fields\":[{\"name\":\"index\",\"type\":\"integer\"},{\"name\":\"qgrid_unfiltered_index\",\"type\":\"integer\"},{\"name\":\"db_name\",\"type\":\"string\"},{\"name\":\"schema_name\",\"type\":\"string\"},{\"name\":\"table_name\",\"type\":\"string\"},{\"name\":\"type\",\"type\":\"string\"},{\"name\":\"column_id\",\"type\":\"integer\"},{\"name\":\"column_name\",\"type\":\"string\"},{\"name\":\"column_max_length\",\"type\":\"number\"},{\"name\":\"column_type\",\"type\":\"string\"}],\"primaryKey\":[\"index\"],\"pandas_version\":\"0.20.0\"},\"data\":[{\"index\":0,\"qgrid_unfiltered_index\":0,\"db_name\":\"gabby\",\"schema_name\":\"alumni\",\"table_name\":\"account\",\"type\":\"U\",\"column_id\":-1,\"column_name\":\"nan\",\"column_max_length\":null,\"column_type\":\"nan\"},{\"index\":1,\"qgrid_unfiltered_index\":1,\"db_name\":\"gabby\",\"schema_name\":\"alumni\",\"table_name\":\"application_c\",\"type\":\"U\",\"column_id\":-1,\"column_name\":\"nan\",\"column_max_length\":null,\"column_type\":\"nan\"},{\"index\":2,\"qgrid_unfiltered_index\":2,\"db_name\":\"gabby\",\"schema_name\":\"alumni\",\"table_name\":\"application_identifiers\",\"type\":\"V\",\"column_id\":-1,\"column_name\":\"nan\",\"column_max_length\":null,\"column_type\":\"nan\"},{\"index\":3,\"qgrid_unfiltered_index\":3,\"db_name\":\"gabby\",\"schema_name\":\"alumni\",\"table_name\":\"application_status_history_c\",\"type\":\"U\",\"column_id\":-1,\"column_name\":\"nan\",\"column_max_length\":null,\"column_type\":\"nan\"},{\"index\":4,\"qgrid_unfiltered_index\":4,\"db_name\":\"gabby\",\"schema_name\":\"alumni\",\"table_name\":\"attachment\",\"type\":\"U\",\"column_id\":-1,\"column_name\":\"nan\",\"column_max_length\":null,\"column_type\":\"nan\"},{\"index\":5,\"qgrid_unfiltered_index\":5,\"db_name\":\"gabby\",\"schema_name\":\"alumni\",\"table_name\":\"college_persistence_c\",\"type\":\"U\",\"column_id\":-1,\"column_name\":\"nan\",\"column_max_length\":null,\"column_type\":\"nan\"},{\"index\":6,\"qgrid_unfiltered_index\":6,\"db_name\":\"gabby\",\"schema_name\":\"alumni\",\"table_name\":\"contact\",\"type\":\"U\",\"column_id\":-1,\"column_name\":\"nan\",\"column_max_length\":null,\"column_type\":\"nan\"},{\"index\":7,\"qgrid_unfiltered_index\":7,\"db_name\":\"gabby\",\"schema_name\":\"alumni\",\"table_name\":\"contact_history\",\"type\":\"U\",\"column_id\":-1,\"column_name\":\"nan\",\"column_max_length\":null,\"column_type\":\"nan\"},{\"index\":8,\"qgrid_unfiltered_index\":8,\"db_name\":\"gabby\",\"schema_name\":\"alumni\",\"table_name\":\"contact_note_c\",\"type\":\"U\",\"column_id\":-1,\"column_name\":\"nan\",\"column_max_length\":null,\"column_type\":\"nan\"},{\"index\":9,\"qgrid_unfiltered_index\":9,\"db_name\":\"gabby\",\"schema_name\":\"alumni\",\"table_name\":\"contact_note_rollup\",\"type\":\"V\",\"column_id\":-1,\"column_name\":\"nan\",\"column_max_length\":null,\"column_type\":\"nan\"},{\"index\":10,\"qgrid_unfiltered_index\":10,\"db_name\":\"gabby\",\"schema_name\":\"alumni\",\"table_name\":\"employment_c\",\"type\":\"U\",\"column_id\":-1,\"column_name\":\"nan\",\"column_max_length\":null,\"column_type\":\"nan\"},{\"index\":11,\"qgrid_unfiltered_index\":11,\"db_name\":\"gabby\",\"schema_name\":\"alumni\",\"table_name\":\"enrollment_c\",\"type\":\"U\",\"column_id\":-1,\"column_name\":\"nan\",\"column_max_length\":null,\"column_type\":\"nan\"},{\"index\":12,\"qgrid_unfiltered_index\":12,\"db_name\":\"gabby\",\"schema_name\":\"alumni\",\"table_name\":\"enrollment_history\",\"type\":\"U\",\"column_id\":-1,\"column_name\":\"nan\",\"column_max_length\":null,\"column_type\":\"nan\"},{\"index\":13,\"qgrid_unfiltered_index\":13,\"db_name\":\"gabby\",\"schema_name\":\"alumni\",\"table_name\":\"enrollment_identifiers\",\"type\":\"V\",\"column_id\":-1,\"column_name\":\"nan\",\"column_max_length\":null,\"column_type\":\"nan\"},{\"index\":14,\"qgrid_unfiltered_index\":14,\"db_name\":\"gabby\",\"schema_name\":\"alumni\",\"table_name\":\"event\",\"type\":\"U\",\"column_id\":-1,\"column_name\":\"nan\",\"column_max_length\":null,\"column_type\":\"nan\"},{\"index\":15,\"qgrid_unfiltered_index\":15,\"db_name\":\"gabby\",\"schema_name\":\"alumni\",\"table_name\":\"fivetran_api_call\",\"type\":\"U\",\"column_id\":-1,\"column_name\":\"nan\",\"column_max_length\":null,\"column_type\":\"nan\"},{\"index\":16,\"qgrid_unfiltered_index\":16,\"db_name\":\"gabby\",\"schema_name\":\"alumni\",\"table_name\":\"fivetran_audit\",\"type\":\"U\",\"column_id\":-1,\"column_name\":\"nan\",\"column_max_length\":null,\"column_type\":\"nan\"},{\"index\":17,\"qgrid_unfiltered_index\":17,\"db_name\":\"gabby\",\"schema_name\":\"alumni\",\"table_name\":\"fivetran_audit_warning_OLD\",\"type\":\"U\",\"column_id\":-1,\"column_name\":\"nan\",\"column_max_length\":null,\"column_type\":\"nan\"},{\"index\":18,\"qgrid_unfiltered_index\":18,\"db_name\":\"gabby\",\"schema_name\":\"alumni\",\"table_name\":\"fivetran_formula\",\"type\":\"U\",\"column_id\":-1,\"column_name\":\"nan\",\"column_max_length\":null,\"column_type\":\"nan\"},{\"index\":19,\"qgrid_unfiltered_index\":19,\"db_name\":\"gabby\",\"schema_name\":\"alumni\",\"table_name\":\"fivetran_formula_history\",\"type\":\"U\",\"column_id\":-1,\"column_name\":\"nan\",\"column_max_length\":null,\"column_type\":\"nan\"},{\"index\":20,\"qgrid_unfiltered_index\":20,\"db_name\":\"gabby\",\"schema_name\":\"alumni\",\"table_name\":\"fivetran_formula_OLD\",\"type\":\"U\",\"column_id\":-1,\"column_name\":\"nan\",\"column_max_length\":null,\"column_type\":\"nan\"},{\"index\":21,\"qgrid_unfiltered_index\":21,\"db_name\":\"gabby\",\"schema_name\":\"alumni\",\"table_name\":\"fivetran_query\",\"type\":\"U\",\"column_id\":-1,\"column_name\":\"nan\",\"column_max_length\":null,\"column_type\":\"nan\"},{\"index\":22,\"qgrid_unfiltered_index\":22,\"db_name\":\"gabby\",\"schema_name\":\"alumni\",\"table_name\":\"gpa_c\",\"type\":\"U\",\"column_id\":-1,\"column_name\":\"nan\",\"column_max_length\":null,\"column_type\":\"nan\"},{\"index\":23,\"qgrid_unfiltered_index\":23,\"db_name\":\"gabby\",\"schema_name\":\"alumni\",\"table_name\":\"kipp_aid_c\",\"type\":\"U\",\"column_id\":-1,\"column_name\":\"nan\",\"column_max_length\":null,\"column_type\":\"nan\"},{\"index\":24,\"qgrid_unfiltered_index\":24,\"db_name\":\"gabby\",\"schema_name\":\"alumni\",\"table_name\":\"ktc_persistence\",\"type\":\"V\",\"column_id\":-1,\"column_name\":\"nan\",\"column_max_length\":null,\"column_type\":\"nan\"},{\"index\":25,\"qgrid_unfiltered_index\":25,\"db_name\":\"gabby\",\"schema_name\":\"alumni\",\"table_name\":\"ktc_roster\",\"type\":\"V\",\"column_id\":-1,\"column_name\":\"nan\",\"column_max_length\":null,\"column_type\":\"nan\"},{\"index\":26,\"qgrid_unfiltered_index\":26,\"db_name\":\"gabby\",\"schema_name\":\"alumni\",\"table_name\":\"marking_period_c\",\"type\":\"U\",\"column_id\":-1,\"column_name\":\"nan\",\"column_max_length\":null,\"column_type\":\"nan\"},{\"index\":27,\"qgrid_unfiltered_index\":27,\"db_name\":\"gabby\",\"schema_name\":\"alumni\",\"table_name\":\"record_type\",\"type\":\"U\",\"column_id\":-1,\"column_name\":\"nan\",\"column_max_length\":null,\"column_type\":\"nan\"},{\"index\":28,\"qgrid_unfiltered_index\":28,\"db_name\":\"gabby\",\"schema_name\":\"alumni\",\"table_name\":\"standardized_test_c\",\"type\":\"U\",\"column_id\":-1,\"column_name\":\"nan\",\"column_max_length\":null,\"column_type\":\"nan\"},{\"index\":29,\"qgrid_unfiltered_index\":29,\"db_name\":\"gabby\",\"schema_name\":\"alumni\",\"table_name\":\"taf_roster\",\"type\":\"V\",\"column_id\":-1,\"column_name\":\"nan\",\"column_max_length\":null,\"column_type\":\"nan\"},{\"index\":30,\"qgrid_unfiltered_index\":30,\"db_name\":\"gabby\",\"schema_name\":\"alumni\",\"table_name\":\"task\",\"type\":\"U\",\"column_id\":-1,\"column_name\":\"nan\",\"column_max_length\":null,\"column_type\":\"nan\"},{\"index\":31,\"qgrid_unfiltered_index\":31,\"db_name\":\"gabby\",\"schema_name\":\"alumni\",\"table_name\":\"user\",\"type\":\"U\",\"column_id\":-1,\"column_name\":\"nan\",\"column_max_length\":null,\"column_type\":\"nan\"},{\"index\":32,\"qgrid_unfiltered_index\":32,\"db_name\":\"gabby\",\"schema_name\":\"illuminate_groups\",\"table_name\":\"fivetran_audit\",\"type\":\"U\",\"column_id\":-1,\"column_name\":\"nan\",\"column_max_length\":null,\"column_type\":\"nan\"},{\"index\":33,\"qgrid_unfiltered_index\":33,\"db_name\":\"gabby\",\"schema_name\":\"illuminate_groups\",\"table_name\":\"group_student_aff\",\"type\":\"U\",\"column_id\":-1,\"column_name\":\"nan\",\"column_max_length\":null,\"column_type\":\"nan\"},{\"index\":34,\"qgrid_unfiltered_index\":34,\"db_name\":\"gabby\",\"schema_name\":\"illuminate_groups\",\"table_name\":\"groups\",\"type\":\"U\",\"column_id\":-1,\"column_name\":\"nan\",\"column_max_length\":null,\"column_type\":\"nan\"},{\"index\":35,\"qgrid_unfiltered_index\":35,\"db_name\":\"gabby\",\"schema_name\":\"illuminate_groups\",\"table_name\":\"student_groups\",\"type\":\"V\",\"column_id\":-1,\"column_name\":\"nan\",\"column_max_length\":null,\"column_type\":\"nan\"},{\"index\":36,\"qgrid_unfiltered_index\":36,\"db_name\":\"gabby\",\"schema_name\":\"illuminate_standards\",\"table_name\":\"fivetran_audit\",\"type\":\"U\",\"column_id\":-1,\"column_name\":\"nan\",\"column_max_length\":null,\"column_type\":\"nan\"},{\"index\":37,\"qgrid_unfiltered_index\":37,\"db_name\":\"gabby\",\"schema_name\":\"illuminate_standards\",\"table_name\":\"standards\",\"type\":\"U\",\"column_id\":-1,\"column_name\":\"nan\",\"column_max_length\":null,\"column_type\":\"nan\"},{\"index\":38,\"qgrid_unfiltered_index\":38,\"db_name\":\"gabby\",\"schema_name\":\"illuminate_standards\",\"table_name\":\"standards_domain\",\"type\":\"V\",\"column_id\":-1,\"column_name\":\"nan\",\"column_max_length\":null,\"column_type\":\"nan\"},{\"index\":39,\"qgrid_unfiltered_index\":39,\"db_name\":\"gabby\",\"schema_name\":\"illuminate_standards\",\"table_name\":\"standards_domain_static\",\"type\":\"U\",\"column_id\":-1,\"column_name\":\"nan\",\"column_max_length\":null,\"column_type\":\"nan\"},{\"index\":40,\"qgrid_unfiltered_index\":40,\"db_name\":\"gabby\",\"schema_name\":\"illuminate_standards\",\"table_name\":\"subjects\",\"type\":\"U\",\"column_id\":-1,\"column_name\":\"nan\",\"column_max_length\":null,\"column_type\":\"nan\"},{\"index\":41,\"qgrid_unfiltered_index\":41,\"db_name\":\"gabby\",\"schema_name\":\"illuminate_dna_assessments\",\"table_name\":\"agg_student_responses\",\"type\":\"U\",\"column_id\":-1,\"column_name\":\"nan\",\"column_max_length\":null,\"column_type\":\"nan\"},{\"index\":42,\"qgrid_unfiltered_index\":42,\"db_name\":\"gabby\",\"schema_name\":\"illuminate_dna_assessments\",\"table_name\":\"agg_student_responses_all\",\"type\":\"V\",\"column_id\":-1,\"column_name\":\"nan\",\"column_max_length\":null,\"column_type\":\"nan\"},{\"index\":43,\"qgrid_unfiltered_index\":43,\"db_name\":\"gabby\",\"schema_name\":\"illuminate_dna_assessments\",\"table_name\":\"agg_student_responses_all_archive\",\"type\":\"U\",\"column_id\":-1,\"column_name\":\"nan\",\"column_max_length\":null,\"column_type\":\"nan\"},{\"index\":44,\"qgrid_unfiltered_index\":44,\"db_name\":\"gabby\",\"schema_name\":\"illuminate_dna_assessments\",\"table_name\":\"agg_student_responses_all_current\",\"type\":\"V\",\"column_id\":-1,\"column_name\":\"nan\",\"column_max_length\":null,\"column_type\":\"nan\"},{\"index\":45,\"qgrid_unfiltered_index\":45,\"db_name\":\"gabby\",\"schema_name\":\"illuminate_dna_assessments\",\"table_name\":\"agg_student_responses_group\",\"type\":\"U\",\"column_id\":-1,\"column_name\":\"nan\",\"column_max_length\":null,\"column_type\":\"nan\"},{\"index\":46,\"qgrid_unfiltered_index\":46,\"db_name\":\"gabby\",\"schema_name\":\"illuminate_dna_assessments\",\"table_name\":\"agg_student_responses_standard\",\"type\":\"U\",\"column_id\":-1,\"column_name\":\"nan\",\"column_max_length\":null,\"column_type\":\"nan\"},{\"index\":47,\"qgrid_unfiltered_index\":47,\"db_name\":\"gabby\",\"schema_name\":\"illuminate_dna_assessments\",\"table_name\":\"assessment_grade_levels\",\"type\":\"U\",\"column_id\":-1,\"column_name\":\"nan\",\"column_max_length\":null,\"column_type\":\"nan\"},{\"index\":48,\"qgrid_unfiltered_index\":48,\"db_name\":\"gabby\",\"schema_name\":\"illuminate_dna_assessments\",\"table_name\":\"assessment_grade_levels_validation\",\"type\":\"V\",\"column_id\":-1,\"column_name\":\"nan\",\"column_max_length\":null,\"column_type\":\"nan\"},{\"index\":49,\"qgrid_unfiltered_index\":49,\"db_name\":\"gabby\",\"schema_name\":\"illuminate_dna_assessments\",\"table_name\":\"assessment_grade_levels_validation_static\",\"type\":\"U\",\"column_id\":-1,\"column_name\":\"nan\",\"column_max_length\":null,\"column_type\":\"nan\"},{\"index\":50,\"qgrid_unfiltered_index\":50,\"db_name\":\"gabby\",\"schema_name\":\"illuminate_dna_assessments\",\"table_name\":\"assessment_responses_long\",\"type\":\"V\",\"column_id\":-1,\"column_name\":\"nan\",\"column_max_length\":null,\"column_type\":\"nan\"},{\"index\":51,\"qgrid_unfiltered_index\":51,\"db_name\":\"gabby\",\"schema_name\":\"illuminate_dna_assessments\",\"table_name\":\"assessment_responses_rollup_current\",\"type\":\"V\",\"column_id\":-1,\"column_name\":\"nan\",\"column_max_length\":null,\"column_type\":\"nan\"},{\"index\":52,\"qgrid_unfiltered_index\":52,\"db_name\":\"gabby\",\"schema_name\":\"illuminate_dna_assessments\",\"table_name\":\"assessment_responses_rollup_current_static\",\"type\":\"U\",\"column_id\":-1,\"column_name\":\"nan\",\"column_max_length\":null,\"column_type\":\"nan\"},{\"index\":53,\"qgrid_unfiltered_index\":53,\"db_name\":\"gabby\",\"schema_name\":\"illuminate_dna_assessments\",\"table_name\":\"assessment_standards\",\"type\":\"U\",\"column_id\":-1,\"column_name\":\"nan\",\"column_max_length\":null,\"column_type\":\"nan\"},{\"index\":54,\"qgrid_unfiltered_index\":54,\"db_name\":\"gabby\",\"schema_name\":\"illuminate_dna_assessments\",\"table_name\":\"assessment_standards_validation\",\"type\":\"V\",\"column_id\":-1,\"column_name\":\"nan\",\"column_max_length\":null,\"column_type\":\"nan\"},{\"index\":55,\"qgrid_unfiltered_index\":55,\"db_name\":\"gabby\",\"schema_name\":\"illuminate_dna_assessments\",\"table_name\":\"assessment_standards_validation_static\",\"type\":\"U\",\"column_id\":-1,\"column_name\":\"nan\",\"column_max_length\":null,\"column_type\":\"nan\"},{\"index\":56,\"qgrid_unfiltered_index\":56,\"db_name\":\"gabby\",\"schema_name\":\"illuminate_dna_assessments\",\"table_name\":\"assessments\",\"type\":\"U\",\"column_id\":-1,\"column_name\":\"nan\",\"column_max_length\":null,\"column_type\":\"nan\"},{\"index\":57,\"qgrid_unfiltered_index\":57,\"db_name\":\"gabby\",\"schema_name\":\"illuminate_dna_assessments\",\"table_name\":\"assessments_identifiers\",\"type\":\"V\",\"column_id\":-1,\"column_name\":\"nan\",\"column_max_length\":null,\"column_type\":\"nan\"},{\"index\":58,\"qgrid_unfiltered_index\":58,\"db_name\":\"gabby\",\"schema_name\":\"illuminate_dna_assessments\",\"table_name\":\"assessments_identifiers_static\",\"type\":\"U\",\"column_id\":-1,\"column_name\":\"nan\",\"column_max_length\":null,\"column_type\":\"nan\"},{\"index\":59,\"qgrid_unfiltered_index\":59,\"db_name\":\"gabby\",\"schema_name\":\"illuminate_dna_assessments\",\"table_name\":\"assessments_reporting_groups\",\"type\":\"U\",\"column_id\":-1,\"column_name\":\"nan\",\"column_max_length\":null,\"column_type\":\"nan\"},{\"index\":60,\"qgrid_unfiltered_index\":60,\"db_name\":\"gabby\",\"schema_name\":\"illuminate_dna_assessments\",\"table_name\":\"assessments_reporting_groups_validation\",\"type\":\"V\",\"column_id\":-1,\"column_name\":\"nan\",\"column_max_length\":null,\"column_type\":\"nan\"},{\"index\":61,\"qgrid_unfiltered_index\":61,\"db_name\":\"gabby\",\"schema_name\":\"illuminate_dna_assessments\",\"table_name\":\"assessments_reporting_groups_validation_static\",\"type\":\"U\",\"column_id\":-1,\"column_name\":\"nan\",\"column_max_length\":null,\"column_type\":\"nan\"},{\"index\":62,\"qgrid_unfiltered_index\":62,\"db_name\":\"gabby\",\"schema_name\":\"illuminate_dna_assessments\",\"table_name\":\"course_enrollment_scaffold\",\"type\":\"V\",\"column_id\":-1,\"column_name\":\"nan\",\"column_max_length\":null,\"column_type\":\"nan\"},{\"index\":63,\"qgrid_unfiltered_index\":63,\"db_name\":\"gabby\",\"schema_name\":\"illuminate_dna_assessments\",\"table_name\":\"course_enrollment_scaffold_static\",\"type\":\"U\",\"column_id\":-1,\"column_name\":\"nan\",\"column_max_length\":null,\"column_type\":\"nan\"},{\"index\":64,\"qgrid_unfiltered_index\":64,\"db_name\":\"gabby\",\"schema_name\":\"illuminate_dna_assessments\",\"table_name\":\"field_standards\",\"type\":\"U\",\"column_id\":-1,\"column_name\":\"nan\",\"column_max_length\":null,\"column_type\":\"nan\"},{\"index\":65,\"qgrid_unfiltered_index\":65,\"db_name\":\"gabby\",\"schema_name\":\"illuminate_dna_assessments\",\"table_name\":\"fields\",\"type\":\"U\",\"column_id\":-1,\"column_name\":\"nan\",\"column_max_length\":null,\"column_type\":\"nan\"},{\"index\":66,\"qgrid_unfiltered_index\":66,\"db_name\":\"gabby\",\"schema_name\":\"illuminate_dna_assessments\",\"table_name\":\"fields_reporting_groups\",\"type\":\"U\",\"column_id\":-1,\"column_name\":\"nan\",\"column_max_length\":null,\"column_type\":\"nan\"},{\"index\":67,\"qgrid_unfiltered_index\":67,\"db_name\":\"gabby\",\"schema_name\":\"illuminate_dna_assessments\",\"table_name\":\"fields_validation\",\"type\":\"V\",\"column_id\":-1,\"column_name\":\"nan\",\"column_max_length\":null,\"column_type\":\"nan\"},{\"index\":68,\"qgrid_unfiltered_index\":68,\"db_name\":\"gabby\",\"schema_name\":\"illuminate_dna_assessments\",\"table_name\":\"fields_validation_static\",\"type\":\"U\",\"column_id\":-1,\"column_name\":\"nan\",\"column_max_length\":null,\"column_type\":\"nan\"},{\"index\":69,\"qgrid_unfiltered_index\":69,\"db_name\":\"gabby\",\"schema_name\":\"illuminate_dna_assessments\",\"table_name\":\"fivetran_audit\",\"type\":\"U\",\"column_id\":-1,\"column_name\":\"nan\",\"column_max_length\":null,\"column_type\":\"nan\"},{\"index\":70,\"qgrid_unfiltered_index\":70,\"db_name\":\"gabby\",\"schema_name\":\"illuminate_dna_assessments\",\"table_name\":\"performance_band_lookup\",\"type\":\"V\",\"column_id\":-1,\"column_name\":\"nan\",\"column_max_length\":null,\"column_type\":\"nan\"},{\"index\":71,\"qgrid_unfiltered_index\":71,\"db_name\":\"gabby\",\"schema_name\":\"illuminate_dna_assessments\",\"table_name\":\"performance_band_lookup_static\",\"type\":\"U\",\"column_id\":-1,\"column_name\":\"nan\",\"column_max_length\":null,\"column_type\":\"nan\"},{\"index\":72,\"qgrid_unfiltered_index\":72,\"db_name\":\"gabby\",\"schema_name\":\"illuminate_dna_assessments\",\"table_name\":\"performance_band_sets\",\"type\":\"U\",\"column_id\":-1,\"column_name\":\"nan\",\"column_max_length\":null,\"column_type\":\"nan\"},{\"index\":73,\"qgrid_unfiltered_index\":73,\"db_name\":\"gabby\",\"schema_name\":\"illuminate_dna_assessments\",\"table_name\":\"performance_bands\",\"type\":\"U\",\"column_id\":-1,\"column_name\":\"nan\",\"column_max_length\":null,\"column_type\":\"nan\"},{\"index\":74,\"qgrid_unfiltered_index\":74,\"db_name\":\"gabby\",\"schema_name\":\"illuminate_dna_assessments\",\"table_name\":\"performance_bands_validation\",\"type\":\"V\",\"column_id\":-1,\"column_name\":\"nan\",\"column_max_length\":null,\"column_type\":\"nan\"},{\"index\":75,\"qgrid_unfiltered_index\":75,\"db_name\":\"gabby\",\"schema_name\":\"illuminate_dna_assessments\",\"table_name\":\"performance_bands_validation_static\",\"type\":\"U\",\"column_id\":-1,\"column_name\":\"nan\",\"column_max_length\":null,\"column_type\":\"nan\"},{\"index\":76,\"qgrid_unfiltered_index\":76,\"db_name\":\"gabby\",\"schema_name\":\"illuminate_dna_assessments\",\"table_name\":\"reporting_groups\",\"type\":\"U\",\"column_id\":-1,\"column_name\":\"nan\",\"column_max_length\":null,\"column_type\":\"nan\"},{\"index\":77,\"qgrid_unfiltered_index\":77,\"db_name\":\"gabby\",\"schema_name\":\"illuminate_dna_assessments\",\"table_name\":\"student_assessment_scaffold\",\"type\":\"V\",\"column_id\":-1,\"column_name\":\"nan\",\"column_max_length\":null,\"column_type\":\"nan\"},{\"index\":78,\"qgrid_unfiltered_index\":78,\"db_name\":\"gabby\",\"schema_name\":\"illuminate_dna_assessments\",\"table_name\":\"student_assessment_scaffold_archive\",\"type\":\"U\",\"column_id\":-1,\"column_name\":\"nan\",\"column_max_length\":null,\"column_type\":\"nan\"},{\"index\":79,\"qgrid_unfiltered_index\":79,\"db_name\":\"gabby\",\"schema_name\":\"illuminate_dna_assessments\",\"table_name\":\"student_assessment_scaffold_current\",\"type\":\"V\",\"column_id\":-1,\"column_name\":\"nan\",\"column_max_length\":null,\"column_type\":\"nan\"},{\"index\":80,\"qgrid_unfiltered_index\":80,\"db_name\":\"gabby\",\"schema_name\":\"illuminate_dna_assessments\",\"table_name\":\"student_assessment_scaffold_current_static\",\"type\":\"U\",\"column_id\":-1,\"column_name\":\"nan\",\"column_max_length\":null,\"column_type\":\"nan\"},{\"index\":81,\"qgrid_unfiltered_index\":81,\"db_name\":\"gabby\",\"schema_name\":\"illuminate_dna_assessments\",\"table_name\":\"students_assessments\",\"type\":\"U\",\"column_id\":-1,\"column_name\":\"nan\",\"column_max_length\":null,\"column_type\":\"nan\"},{\"index\":82,\"qgrid_unfiltered_index\":82,\"db_name\":\"gabby\",\"schema_name\":\"illuminate_dna_assessments\",\"table_name\":\"students_assessments_archive\",\"type\":\"U\",\"column_id\":-1,\"column_name\":\"nan\",\"column_max_length\":null,\"column_type\":\"nan\"},{\"index\":83,\"qgrid_unfiltered_index\":83,\"db_name\":\"gabby\",\"schema_name\":\"illuminate_dna_assessments\",\"table_name\":\"tags\",\"type\":\"U\",\"column_id\":-1,\"column_name\":\"nan\",\"column_max_length\":null,\"column_type\":\"nan\"},{\"index\":84,\"qgrid_unfiltered_index\":84,\"db_name\":\"gabby\",\"schema_name\":\"illuminate_public\",\"table_name\":\"__contacts_with_open_ise_process\",\"type\":\"U\",\"column_id\":-1,\"column_name\":\"nan\",\"column_max_length\":null,\"column_type\":\"nan\"},{\"index\":85,\"qgrid_unfiltered_index\":85,\"db_name\":\"gabby\",\"schema_name\":\"illuminate_public\",\"table_name\":\"courses\",\"type\":\"U\",\"column_id\":-1,\"column_name\":\"nan\",\"column_max_length\":null,\"column_type\":\"nan\"},{\"index\":86,\"qgrid_unfiltered_index\":86,\"db_name\":\"gabby\",\"schema_name\":\"illuminate_public\",\"table_name\":\"fivetran_audit\",\"type\":\"U\",\"column_id\":-1,\"column_name\":\"nan\",\"column_max_length\":null,\"column_type\":\"nan\"},{\"index\":87,\"qgrid_unfiltered_index\":87,\"db_name\":\"gabby\",\"schema_name\":\"illuminate_public\",\"table_name\":\"grade_levels\",\"type\":\"U\",\"column_id\":-1,\"column_name\":\"nan\",\"column_max_length\":null,\"column_type\":\"nan\"},{\"index\":88,\"qgrid_unfiltered_index\":88,\"db_name\":\"gabby\",\"schema_name\":\"illuminate_public\",\"table_name\":\"student_session_aff\",\"type\":\"U\",\"column_id\":-1,\"column_name\":\"nan\",\"column_max_length\":null,\"column_type\":\"nan\"},{\"index\":89,\"qgrid_unfiltered_index\":89,\"db_name\":\"gabby\",\"schema_name\":\"illuminate_public\",\"table_name\":\"student_session_aff_clean\",\"type\":\"V\",\"column_id\":-1,\"column_name\":\"nan\",\"column_max_length\":null,\"column_type\":\"nan\"},{\"index\":90,\"qgrid_unfiltered_index\":90,\"db_name\":\"gabby\",\"schema_name\":\"illuminate_public\",\"table_name\":\"student_session_aff_clean_static\",\"type\":\"U\",\"column_id\":-1,\"column_name\":\"nan\",\"column_max_length\":null,\"column_type\":\"nan\"},{\"index\":91,\"qgrid_unfiltered_index\":91,\"db_name\":\"gabby\",\"schema_name\":\"illuminate_public\",\"table_name\":\"student_session_aff_validation\",\"type\":\"V\",\"column_id\":-1,\"column_name\":\"nan\",\"column_max_length\":null,\"column_type\":\"nan\"},{\"index\":92,\"qgrid_unfiltered_index\":92,\"db_name\":\"gabby\",\"schema_name\":\"illuminate_public\",\"table_name\":\"student_session_aff_validation_static\",\"type\":\"U\",\"column_id\":-1,\"column_name\":\"nan\",\"column_max_length\":null,\"column_type\":\"nan\"},{\"index\":93,\"qgrid_unfiltered_index\":93,\"db_name\":\"gabby\",\"schema_name\":\"illuminate_public\",\"table_name\":\"students\",\"type\":\"U\",\"column_id\":-1,\"column_name\":\"nan\",\"column_max_length\":null,\"column_type\":\"nan\"},{\"index\":94,\"qgrid_unfiltered_index\":94,\"db_name\":\"gabby\",\"schema_name\":\"illuminate_public\",\"table_name\":\"users\",\"type\":\"U\",\"column_id\":-1,\"column_name\":\"nan\",\"column_max_length\":null,\"column_type\":\"nan\"},{\"index\":95,\"qgrid_unfiltered_index\":95,\"db_name\":\"gabby\",\"schema_name\":\"illuminate_public\",\"table_name\":\"users_validation\",\"type\":\"V\",\"column_id\":-1,\"column_name\":\"nan\",\"column_max_length\":null,\"column_type\":\"nan\"},{\"index\":96,\"qgrid_unfiltered_index\":96,\"db_name\":\"gabby\",\"schema_name\":\"illuminate_public\",\"table_name\":\"users_validation_static\",\"type\":\"U\",\"column_id\":-1,\"column_name\":\"nan\",\"column_max_length\":null,\"column_type\":\"nan\"},{\"index\":97,\"qgrid_unfiltered_index\":97,\"db_name\":\"gabby\",\"schema_name\":\"illuminate_codes\",\"table_name\":\"dna_scopes\",\"type\":\"U\",\"column_id\":-1,\"column_name\":\"nan\",\"column_max_length\":null,\"column_type\":\"nan\"},{\"index\":98,\"qgrid_unfiltered_index\":98,\"db_name\":\"gabby\",\"schema_name\":\"illuminate_codes\",\"table_name\":\"dna_subject_areas\",\"type\":\"U\",\"column_id\":-1,\"column_name\":\"nan\",\"column_max_length\":null,\"column_type\":\"nan\"},{\"index\":99,\"qgrid_unfiltered_index\":99,\"db_name\":\"gabby\",\"schema_name\":\"illuminate_codes\",\"table_name\":\"fivetran_audit\",\"type\":\"U\",\"column_id\":-1,\"column_name\":\"nan\",\"column_max_length\":null,\"column_type\":\"nan\"}]}",
       "_df_range": [
        0,
        100
       ],
       "_dom_classes": [],
       "_editable_rows": {},
       "_index_col_name": "qgrid_unfiltered_index",
       "_interval_columns": [],
       "_model_module": "qgrid",
       "_model_module_version": "^1.1.3",
       "_model_name": "QgridModel",
       "_multi_index": false,
       "_row_count": 50476,
       "_row_styles": {},
       "_sort_ascending": true,
       "_sort_field": null,
       "_view_count": null,
       "_view_module": "qgrid",
       "_view_module_version": "^1.1.3",
       "_view_name": "QgridView",
       "_viewport_range": [
        0,
        100
       ],
       "grid_options": {
        "autoEdit": false,
        "boldIndex": true,
        "defaultColumnWidth": 150,
        "editable": true,
        "enableColumnReorder": false,
        "enableTextSelectionOnCells": true,
        "explicitInitialization": true,
        "filterable": true,
        "forceFitColumns": true,
        "fullWidthRows": true,
        "highlightSelectedCell": false,
        "highlightSelectedRow": true,
        "maxVisibleRows": 15,
        "minVisibleRows": 8,
        "rowHeight": 28,
        "sortable": true,
        "syncColumnCellResize": true
       },
       "id": "07c99752-9613-48e4-be72-b838eac924c2",
       "layout": "IPY_MODEL_9c34556a7e0b470a825d4aa14ec44646",
       "precision": 5,
       "show_toolbar": false
      }
     }
    },
    "version_major": 2,
    "version_minor": 0
   }
  }
 },
 "nbformat": 4,
 "nbformat_minor": 2
}